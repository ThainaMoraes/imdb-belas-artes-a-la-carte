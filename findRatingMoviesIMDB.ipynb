{
 "cells": [
  {
   "cell_type": "code",
   "execution_count": 1,
   "id": "14ada897",
   "metadata": {},
   "outputs": [],
   "source": [
    "import functions.Imports as imp\n",
    "import functions.Imdb_SQLite as SQL\n",
    "import functions.findMoviesInDataBase as query\n",
    "import functions.ReadAndWriteFiles as readWriteFile"
   ]
  },
  {
   "cell_type": "code",
   "execution_count": 2,
   "id": "e8131e07",
   "metadata": {},
   "outputs": [],
   "source": [
    "# %%time\n",
    "# !imdb-sqlite"
   ]
  },
  {
   "cell_type": "code",
   "execution_count": 3,
   "id": "871a2a55",
   "metadata": {},
   "outputs": [],
   "source": [
    "SQL.howImdbTablesAreOrganized()"
   ]
  },
  {
   "cell_type": "code",
   "execution_count": null,
   "id": "427035df",
   "metadata": {
    "scrolled": true
   },
   "outputs": [],
   "source": [
    "%%time\n",
    "lista_filmes = query.uptadeTilesList('movie_list')"
   ]
  }
 ],
 "metadata": {
  "kernelspec": {
   "display_name": "Python 3 (ipykernel)",
   "language": "python",
   "name": "python3"
  },
  "language_info": {
   "codemirror_mode": {
    "name": "ipython",
    "version": 3
   },
   "file_extension": ".py",
   "mimetype": "text/x-python",
   "name": "python",
   "nbconvert_exporter": "python",
   "pygments_lexer": "ipython3",
   "version": "3.8.10"
  }
 },
 "nbformat": 4,
 "nbformat_minor": 5
}
